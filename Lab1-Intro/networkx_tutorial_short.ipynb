{
 "cells": [
  {
   "cell_type": "markdown",
   "id": "d17ea313-3b79-4817-8c13-1636e2b9b7f6",
   "metadata": {},
   "source": [
    "## Prerequisites\n",
    "- Python\n",
    "- numpy array\n",
    "- graph theory -- data structures"
   ]
  },
  {
   "cell_type": "markdown",
   "id": "7cc66c63-bc74-4264-9f1d-00c25231290a",
   "metadata": {},
   "source": [
    "# Networkx "
   ]
  },
  {
   "cell_type": "code",
   "execution_count": 1,
   "id": "75512798-0e56-4b68-abd0-90442eb2697b",
   "metadata": {},
   "outputs": [],
   "source": [
    "import networkx as nx"
   ]
  },
  {
   "cell_type": "markdown",
   "id": "761ad6d8-1b2a-492e-b8ca-38e4d2ee07c0",
   "metadata": {},
   "source": [
    "- Docs -- https://networkx.org/\n",
    "- Tutorial -- https://networkx.org/documentation/stable/tutorial.html"
   ]
  },
  {
   "cell_type": "markdown",
   "id": "b7973f70-a1b3-4462-8883-d251471e8e4d",
   "metadata": {},
   "source": [
    "## Creating a graph\n",
    "https://networkx.org/documentation/stable/reference/classes/index.html"
   ]
  },
  {
   "cell_type": "code",
   "execution_count": 114,
   "id": "1a179ae6-7433-4c1f-a719-310b2e6beb4f",
   "metadata": {},
   "outputs": [],
   "source": [
    "# Creating a graph\n",
    "G = nx.Graph() \n",
    "DG = nx.DiGraph()\n",
    "MG = nx.MultiGraph() # Multiple edges between same pairs of nodes\n",
    "MDG = nx.MultiDiGraph()transformation"
   ]
  },
  {
   "cell_type": "code",
   "execution_count": 115,
   "id": "21fadf37-0d2b-49df-ad92-cdf88f106660",
   "metadata": {},
   "outputs": [
    {
     "data": {
      "image/png": "[encoded data removed]",
      "text/plain": [
       "<Figure size 432x288 with 1 Axes>"
      ]
     },
     "metadata": {},
     "output_type": "display_data"
    }
   ],
   "source": [
    "DG = nx.DiGraph([(1, 2), (2, 3), (3, 4)]) # Create from edge_list\n",
    "nx.draw_networkx(DG)"
   ]
  },
  {
   "cell_type": "code",
   "execution_count": 116,
   "id": "3e44e71e-f547-4e43-9edf-edf5af523d9e",
   "metadata": {},
   "outputs": [
    {
     "data": {
      "image/png": "[encoded data removed]",
      "text/plain": [
       "<Figure size 432x288 with 1 Axes>"
      ]
     },
     "metadata": {},
     "output_type": "display_data"
    }
   ],
   "source": [
    "## Adding nodes and edges\n",
    "DG = nx.DiGraph()\n",
    "DG.add_node(1)\n",
    "DG.add_nodes_from([2, 3, 4])\n",
    "DG.add_edge(1, 2)\n",
    "DG.add_edges_from([(2, 3), (3, 4)])\n",
    "nx.draw_networkx(DG)\n"
   ]
  },
  {
   "cell_type": "code",
   "execution_count": 133,
   "id": "e7fdb929-f848-40bf-9f4b-c9dedcd7e51b",
   "metadata": {},
   "outputs": [
    {
     "data": {
      "text/plain": [
       "[{'weight': 2}, {'color': 'blue', 'weight': 3}, {'color': 'blue', 'weight': 4}]"
      ]
     },
     "execution_count": 133,
     "metadata": {},
     "output_type": "execute_result"
    }
   ],
   "source": [
    "list(DG.edges.values())"
   ]
  },
  {
   "cell_type": "code",
   "execution_count": 136,
   "id": "1b0a8ad5-5a8b-4b34-9fc5-15cdcf67fd4c",
   "metadata": {},
   "outputs": [
    {
     "data": {
      "image/png": "[encoded data removed]",
      "text/plain": [
       "<Figure size 432x288 with 1 Axes>"
      ]
     },
     "metadata": {},
     "output_type": "display_data"
    }
   ],
   "source": [
    "# Nodes and edges can have attributes\n",
    "## Adding nodes and edges\n",
    "DG = nx.DiGraph()\n",
    "\n",
    "DG.add_node(1, color = \"red\")\n",
    "DG.add_nodes_from([\n",
    "    (2, {\"color\": \"red\"}),\n",
    "    (3, {\"color\": \"blue\"}),\n",
    "    (4, {\"color\": \"green\"})\n",
    "])\n",
    "\n",
    "DG.add_edge(1, 2, weight = 2, color = 'red')\n",
    "DG.add_weighted_edges_from([(2, 3, 3), (3, 4, 4)], color = \"blue\") # all edges have the same attr\n",
    "\n",
    "node_colors = [n['color'] for n in DG.nodes.values()]\n",
    "edge_colors = [e['color'] for e in DG.edges.values()]\n",
    "edge_weights = [e['weight'] for e in DG.edges.values()]\n",
    "\n",
    "nx.draw_networkx(DG, node_color = node_colors, width = edge_weights, edge_color = edge_colors)\n"
   ]
  },
  {
   "cell_type": "markdown",
   "id": "6ad84679-c6c2-4f34-a361-d9abdfad3f13",
   "metadata": {},
   "source": [
    "### Inspecting a graph\n",
    "https://networkx.org/documentation/stable/reference/functions.html#"
   ]
  },
  {
   "cell_type": "code",
   "execution_count": 140,
   "id": "c13bbc44-9e32-4055-8de7-6e5a76547a57",
   "metadata": {},
   "outputs": [
    {
     "name": "stdout",
     "output_type": "stream",
     "text": [
      "[1, 2, 3, 4]\n",
      "[(1, 2), (2, 3), (3, 4)]\n",
      "3\n",
      "4\n"
     ]
    }
   ],
   "source": [
    "## Data about the graph\n",
    "print(list(DG.nodes))\n",
    "print(list(DG.edges))\n",
    "print(DG.number_of_edges())\n",
    "print(DG.number_of_nodes())"
   ]
  },
  {
   "cell_type": "code",
   "execution_count": 142,
   "id": "e5938484-166d-43a5-92cd-b5e8c2e24018",
   "metadata": {},
   "outputs": [
    {
     "name": "stdout",
     "output_type": "stream",
     "text": [
      "{'color': 'red'}\n",
      "{'weight': 2, 'color': 'red'}\n",
      "\n",
      "[2]\n",
      "Degrees\n",
      "[(1, 1), (2, 2), (3, 2), (4, 1)]\n",
      "[(1, 0), (2, 1), (3, 1), (4, 1)]\n",
      "[(1, 1), (2, 1), (3, 1), (4, 0)]\n",
      "\n",
      "{'weight': 2, 'color': 'red'}\n"
     ]
    }
   ],
   "source": [
    "## Accessing node and edge data\n",
    "print(DG.nodes[1])\n",
    "print(DG.edges[(1, 2)]) # same as DG[1][2]\n",
    "\n",
    "# More data about nodes\n",
    "print()\n",
    "print(list(DG.neighbors(1)))\n",
    "print(\"Degrees\")\n",
    "print(DG.degree)\n",
    "print(DG.in_degree)\n",
    "print(DG.out_degree)\n",
    "\n",
    "\n",
    "# More data about edges\n",
    "print()\n",
    "print(DG.get_edge_data(1, 2))"
   ]
  },
  {
   "cell_type": "code",
   "execution_count": 125,
   "id": "baee83b1-f695-4046-b187-3c8c12368471",
   "metadata": {},
   "outputs": [
    {
     "name": "stdout",
     "output_type": "stream",
     "text": [
      "[2, 3, 4]\n",
      "[(3, 4)]\n"
     ]
    },
    {
     "data": {
      "image/png": "[encoded data removed]",
      "text/plain": [
       "<Figure size 432x288 with 1 Axes>"
      ]
     },
     "metadata": {},
     "output_type": "display_data"
    }
   ],
   "source": [
    "## Remove nodes\n",
    "DG.remove_node(1)\n",
    "print(list(DG.nodes))\n",
    "DG.remove_edge(2, 3)\n",
    "print(DG.edges)\n",
    "\n",
    "nx.draw_circular(DG) # Different methods to draw, check docs"
   ]
  },
  {
   "cell_type": "markdown",
   "id": "c5920f7e-3e30-415c-bb3f-21365a7054da",
   "metadata": {},
   "source": [
    "## Graph generators\n",
    "https://networkx.org/documentation/stable/reference/generators.html"
   ]
  },
  {
   "cell_type": "code",
   "execution_count": 143,
   "id": "0e27e1c8-e247-4cc3-b7c4-d72b8f7e445d",
   "metadata": {},
   "outputs": [
    {
     "data": {
      "image/png": "[encoded data removed]",
      "text/plain": [
       "<Figure size 432x288 with 1 Axes>"
      ]
     },
     "metadata": {},
     "output_type": "display_data"
    }
   ],
   "source": [
    "G = nx.complete_graph(5)\n",
    "nx.draw_networkx(G)"
   ]
  },
  {
   "cell_type": "markdown",
   "id": "4191e3fe-b908-4c21-98ec-21e03b865f4b",
   "metadata": {},
   "source": [
    "### Read and write\n",
    "- Converting data in different formats -- https://networkx.org/documentation/stable/reference/convert.html \n",
    "- Read and write -- https://networkx.org/documentation/stable/reference/readwrite/index.html\n"
   ]
  },
  {
   "cell_type": "code",
   "execution_count": 161,
   "id": "83fb6a62-a4ac-4516-b7f7-9fb0de005889",
   "metadata": {},
   "outputs": [],
   "source": [
    "import os"
   ]
  },
  {
   "cell_type": "code",
   "execution_count": 153,
   "id": "fbd74de0-cd02-4fd7-a9f6-7cd8e54e432b",
   "metadata": {},
   "outputs": [
    {
     "data": {
      "image/png": "[encoded data removed]",
      "text/plain": [
       "<Figure size 432x288 with 1 Axes>"
      ]
     },
     "metadata": {},
     "output_type": "display_data"
    }
   ],
   "source": [
    "G = nx.barbell_graph(5, 5) # two complete graphs connected by a path.\n",
    "nx.draw_networkx(G)"
   ]
  },
  {
   "cell_type": "code",
   "execution_count": 165,
   "id": "d3910250-47ea-4f3a-8dda-180c40d92cfe",
   "metadata": {},
   "outputs": [
    {
     "name": "stdout",
     "output_type": "stream",
     "text": [
      "[[0 1 1 1 1 0 0 0 0 0 0 0 0 0 0]\n",
      " [1 0 1 1 1 0 0 0 0 0 0 0 0 0 0]\n",
      " [1 1 0 1 1 0 0 0 0 0 0 0 0 0 0]\n",
      " [1 1 1 0 1 0 0 0 0 0 0 0 0 0 0]\n",
      " [1 1 1 1 0 1 0 0 0 0 0 0 0 0 0]\n",
      " [0 0 0 0 1 0 1 0 0 0 0 0 0 0 0]\n",
      " [0 0 0 0 0 1 0 1 0 0 0 0 0 0 0]\n",
      " [0 0 0 0 0 0 1 0 1 0 0 0 0 0 0]\n",
      " [0 0 0 0 0 0 0 1 0 1 0 0 0 0 0]\n",
      " [0 0 0 0 0 0 0 0 1 0 1 0 0 0 0]\n",
      " [0 0 0 0 0 0 0 0 0 1 0 1 1 1 1]\n",
      " [0 0 0 0 0 0 0 0 0 0 1 0 1 1 1]\n",
      " [0 0 0 0 0 0 0 0 0 0 1 1 0 1 1]\n",
      " [0 0 0 0 0 0 0 0 0 0 1 1 1 0 1]\n",
      " [0 0 0 0 0 0 0 0 0 0 1 1 1 1 0]]\n"
     ]
    }
   ],
   "source": [
    "adj = nx.adjacency_matrix(G) # Sparse format\n",
    "print(adj.todense())\n",
    "\n",
    "nx.write_adjlist(G, os.path.join('data', 'test.adjlist'))\n",
    "G_ = nx.read_adjlist(os.path.join('data', 'test.adjlist')) # Note: edges are read as strings now"
   ]
  },
  {
   "cell_type": "code",
   "execution_count": 183,
   "id": "6a3777ed-018b-4b91-adb5-6077eeef4363",
   "metadata": {},
   "outputs": [
    {
     "data": {
      "text/plain": [
       "['0 1 {}',\n",
       " '0 2 {}',\n",
       " '0 3 {}',\n",
       " '0 4 {}',\n",
       " '1 2 {}',\n",
       " '1 3 {}',\n",
       " '1 4 {}',\n",
       " '2 3 {}',\n",
       " '2 4 {}',\n",
       " '3 4 {}',\n",
       " '4 5 {}',\n",
       " '5 6 {}',\n",
       " '6 7 {}',\n",
       " '7 8 {}',\n",
       " '8 9 {}',\n",
       " '9 10 {}',\n",
       " '10 11 {}',\n",
       " '10 12 {}',\n",
       " '10 13 {}',\n",
       " '10 14 {}',\n",
       " '11 12 {}',\n",
       " '11 13 {}',\n",
       " '11 14 {}',\n",
       " '12 13 {}',\n",
       " '12 14 {}',\n",
       " '13 14 {}']"
      ]
     },
     "execution_count": 183,
     "metadata": {},
     "output_type": "execute_result"
    }
   ],
   "source": [
    "list(nx.generate_edgelist(G))"
   ]
  },
  {
   "cell_type": "markdown",
   "id": "74afc2cb-31a4-440f-8245-84f1a7b179b3",
   "metadata": {},
   "source": [
    "# Resources"
   ]
  },
  {
   "cell_type": "markdown",
   "id": "7db6dad2-9fff-4536-a89b-8fc020c9ae28",
   "metadata": {},
   "source": [
    "- [More examples](https://networkx.org/documentation/stable/auto_examples/index.html)\n"
   ]
  }
 ],
 "metadata": {
  "kernelspec": {
   "display_name": "Python 3 (ipykernel)",
   "language": "python",
   "name": "python3"
  },
  "language_info": {
   "codemirror_mode": {
    "name": "ipython",
    "version": 3
   },
   "file_extension": ".py",
   "mimetype": "text/x-python",
   "name": "python",
   "nbconvert_exporter": "python",
   "pygments_lexer": "ipython3",
   "version": "3.9.7"
  }
 },
 "nbformat": 4,
 "nbformat_minor": 5
}
