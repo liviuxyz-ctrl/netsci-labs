{
 "cells": [
  {
   "cell_type": "markdown",
   "id": "299dfffa-0188-48ab-a5c1-3f5d3e43ffe6",
   "metadata": {},
   "source": [
    "[scipy stats docs](https://docs.scipy.org/doc/scipy/reference/stats.html)\n",
    "\n",
    "[numpy stats docs](https://numpy.org/doc/stable/reference/routines.statistics.html)\n",
    "\n",
    "[tutorial](https://www.tutorialspoint.com/scipy/scipy_stats.htm)"
   ]
  },
  {
   "cell_type": "code",
   "execution_count": 1,
   "id": "bbe429f0-1dd1-4522-bd2b-de0ba06bcff3",
   "metadata": {},
   "outputs": [],
   "source": [
    "import scipy.stats as st\n",
    "import numpy as np\n",
    "\n",
    "import matplotlib.pyplot as plt"
   ]
  },
  {
   "cell_type": "markdown",
   "id": "e77fbfdb-fa9c-41ac-a776-d5e8d1745c2c",
   "metadata": {},
   "source": [
    "# Base classes"
   ]
  },
  {
   "cell_type": "markdown",
   "id": "78ddfb9f-abdf-4d4d-9d8b-cd481e4f0e26",
   "metadata": {},
   "source": [
    "3 base classes, `rv_continuous`, `rv_discrete` and `rv_histogram`"
   ]
  },
  {
   "cell_type": "markdown",
   "id": "685e44f3-01b1-4d0b-8449-1b75d1e13deb",
   "metadata": {},
   "source": [
    "## `rv_continuous`"
   ]
  },
  {
   "cell_type": "markdown",
   "id": "5e14f60c-cd15-453d-ac5e-fa7bd5e322e8",
   "metadata": {},
   "source": [
    "- https://docs.scipy.org/doc/scipy/reference/generated/scipy.stats.rv_continuous.html#scipy.stats.rv_continuous"
   ]
  },
  {
   "cell_type": "code",
   "execution_count": 2,
   "id": "17f144a3-e886-46b2-a6f2-4057bb872d8b",
   "metadata": {},
   "outputs": [],
   "source": [
    "class gaussian_gen(st.rv_continuous):\n",
    "\n",
    "    \"Gaussian distribution\"\n",
    "\n",
    "    def _pdf(self, x):\n",
    "\n",
    "\n",
    "        return np.exp(-x**2 / 2.) / np.sqrt(2.0 * np.pi)\n",
    "gaussian = gaussian_gen(name='gaussian')"
   ]
  },
  {
   "cell_type": "code",
   "execution_count": 3,
   "id": "7a25ac42-e133-434c-9050-b71cb05bb72f",
   "metadata": {},
   "outputs": [
    {
     "data": {
      "text/plain": [
       "0.4999999999999999"
      ]
     },
     "execution_count": 3,
     "metadata": {},
     "output_type": "execute_result"
    }
   ],
   "source": [
    "gaussian.cdf(0)"
   ]
  },
  {
   "cell_type": "markdown",
   "id": "0c67e3c0-b307-43b6-a2b5-e0e2624e78f4",
   "metadata": {},
   "source": [
    "## `rv_discrete`\n",
    "\n",
    "- https://docs.scipy.org/doc/scipy/reference/generated/scipy.stats.rv_discrete.html#scipy.stats.rv_discrete"
   ]
  },
  {
   "cell_type": "code",
   "execution_count": 4,
   "id": "521395b8-f1d6-4023-bcd2-9da702f2f460",
   "metadata": {},
   "outputs": [
    {
     "name": "stdout",
     "output_type": "stream",
     "text": [
      "[0.1, 0.2, 0.3, 0.1, 0.1, 0.0, 0.2]\n",
      "Probability mass:  [0.1, 0.2, 0.3, 0.1, 0.1, 0.0, 0.2]\n",
      "Cumulative distribution:  [0.1, 0.30000000000000004, 0.6000000000000001, 0.7000000000000001, 0.8, 0.8, 1.0]\n",
      "\n"
     ]
    },
    {
     "data": {
      "image/png": "[encoded data removed]",
      "text/plain": [
       "<Figure size 432x288 with 1 Axes>"
      ]
     },
     "metadata": {
      "needs_background": "light"
     },
     "output_type": "display_data"
    }
   ],
   "source": [
    "# Create discrete distribution\n",
    "xk = np.arange(7)\n",
    "pk = [0.1, 0.2, 0.3, 0.1, 0.1, 0.0, 0.2]\n",
    "dist = st.rv_discrete(name='custm', values=(xk, pk))\n",
    "\n",
    "print(pk)\n",
    "print(\"Probability mass: \", [dist.pmf(x) for x in xk]) # probability of the value\n",
    "print(\"Cumulative distribution: \", [dist.cdf(x) for x in xk])\n",
    "print()\n",
    "# Plot\n",
    "fig, ax = plt.subplots(1, 1)\n",
    "ax.plot(xk, dist.pmf(xk), 'ro', ms=12, mec='r') \n",
    "ax.vlines(xk, 0, dist.pmf(xk), colors='r', lw=4) \n",
    "plt.show()"
   ]
  },
  {
   "cell_type": "code",
   "execution_count": 5,
   "id": "4e4c12dd-4c3b-4e37-ac0e-37c6b4d28dec",
   "metadata": {},
   "outputs": [
    {
     "data": {
      "text/plain": [
       "(2.7, 1.9519221295943132, 3.8099999999999987)"
      ]
     },
     "execution_count": 5,
     "metadata": {},
     "output_type": "execute_result"
    }
   ],
   "source": [
    "dist.mean(), dist.std(), dist.var()"
   ]
  },
  {
   "cell_type": "markdown",
   "id": "d48b38cc-5670-4f43-b993-74570d2ec725",
   "metadata": {},
   "source": [
    "# Continuous distributions"
   ]
  },
  {
   "cell_type": "markdown",
   "id": "901e1452-0cfb-4f66-b3a2-c4606defc688",
   "metadata": {},
   "source": [
    "## Uniform distribution"
   ]
  },
  {
   "cell_type": "code",
   "execution_count": 65,
   "id": "c0934a12-63cc-472c-ae8a-b6a351356313",
   "metadata": {},
   "outputs": [
    {
     "data": {
      "text/plain": [
       "0.99"
      ]
     },
     "execution_count": 65,
     "metadata": {},
     "output_type": "execute_result"
    }
   ],
   "source": [
    "st.uniform.ppf(0.99)"
   ]
  },
  {
   "cell_type": "code",
   "execution_count": 92,
   "id": "c0ab7604-f518-4cdd-89a6-a82e7e538cab",
   "metadata": {},
   "outputs": [
    {
     "data": {
      "image/png": "[encoded data removed]",
      "text/plain": [
       "<Figure size 432x288 with 1 Axes>"
      ]
     },
     "metadata": {
      "needs_background": "light"
     },
     "output_type": "display_data"
    }
   ],
   "source": [
    "num_samples = 1000\n",
    "x = np.linspace(st.uniform.ppf(0.01), st.uniform.ppf(0.99), 100)\n",
    "p = st.uniform.pdf(x) # everything has prob 1\n",
    "samples = [st.uniform.rvs() for _ in range(num_samples)] # sample \n",
    "\n",
    "plt.hist(samples, density=True, alpha = .2)\n",
    "plt.plot(x, p, linewidth = 3)\n",
    "plt.show()\n",
    "\n"
   ]
  },
  {
   "cell_type": "markdown",
   "id": "2c4f7fcf-2bf9-4e3e-867c-b602538b16da",
   "metadata": {},
   "source": [
    "## Gaussian"
   ]
  },
  {
   "cell_type": "code",
   "execution_count": 70,
   "id": "9ed5b6cc-d7d7-4689-ab2e-9703c13d3568",
   "metadata": {},
   "outputs": [
    {
     "data": {
      "text/plain": [
       "(-2.3263478740408408, 2.3263478740408408)"
      ]
     },
     "execution_count": 70,
     "metadata": {},
     "output_type": "execute_result"
    }
   ],
   "source": [
    "st.norm.ppf(0.01), st.norm.ppf(0.99)"
   ]
  },
  {
   "cell_type": "code",
   "execution_count": 93,
   "id": "8e5412ba-5616-4475-967e-8b0f2e7f2a3d",
   "metadata": {},
   "outputs": [
    {
     "data": {
      "image/png": "[encoded data removed]",
      "text/plain": [
       "<Figure size 432x288 with 1 Axes>"
      ]
     },
     "metadata": {
      "needs_background": "light"
     },
     "output_type": "display_data"
    }
   ],
   "source": [
    "x = np.linspace(st.norm.ppf(0.001), st.norm.ppf(0.999), 100)\n",
    "y = st.norm.pdf(x)\n",
    "samples = [st.norm.rvs() for _ in range(num_samples)] # sample \n",
    "plt.hist(samples, density=True, alpha = .2)\n",
    "plt.plot(x, y, linewidth = 3)\n",
    "plt.show()\n"
   ]
  },
  {
   "cell_type": "markdown",
   "id": "5affb899-6244-4254-a443-354e9daff882",
   "metadata": {},
   "source": [
    "# Discrete distributions"
   ]
  },
  {
   "cell_type": "markdown",
   "id": "4c9e7b6e-35fd-4f8f-868c-c4fdde2bc117",
   "metadata": {},
   "source": [
    "## Bernoulli"
   ]
  },
  {
   "cell_type": "markdown",
   "id": "c2b9f484-301d-49f7-bf68-8dc00a450892",
   "metadata": {},
   "source": [
    "Probability mass function:\n",
    "\n",
    "$$f(k) = \\begin{cases}\n",
    "1 - p & \\text{ if } k = 0 \\\\\n",
    "p & \\text{ if } k = 1\n",
    "\\end{cases}$$\n",
    "for $k \\in {0, 1}, 0 \\leq p \\leq 1$"
   ]
  },
  {
   "cell_type": "code",
   "execution_count": 102,
   "id": "96e4d5f3-e476-4dc5-a36b-7052d5800192",
   "metadata": {},
   "outputs": [
    {
     "name": "stdout",
     "output_type": "stream",
     "text": [
      "mean = array(0.3)\n",
      "var = array(0.21)\n"
     ]
    }
   ],
   "source": [
    "p = .3\n",
    "mean, var = st.bernoulli.stats(p, moments = 'mv')\n",
    "print(f\"{mean = }\\n{var = }\")"
   ]
  },
  {
   "cell_type": "code",
   "execution_count": 134,
   "id": "beb24e84-d972-4723-920a-0712f7eddf68",
   "metadata": {},
   "outputs": [
    {
     "data": {
      "image/png": "[encoded data removed]",
      "text/plain": [
       "<Figure size 432x288 with 1 Axes>"
      ]
     },
     "metadata": {
      "needs_background": "light"
     },
     "output_type": "display_data"
    }
   ],
   "source": [
    "x = np.arange(st.bernoulli.ppf(0.01, p), st.bernoulli.ppf(0.99, p))\n",
    "y = st.bernoulli.pmf(x, p)\n",
    "samples = [st.bernoulli.rvs(p) for _ in range(num_samples)] # sample \n",
    "plt.plot(x, y, 'bo', ms = 8)\n",
    "plt.vlines(x, 0, y, color = 'k', linestyles = '-', lw = 5)\n",
    "#plt.plot(x, y, linewidth = 3)\n",
    "plt.show()"
   ]
  },
  {
   "cell_type": "markdown",
   "id": "ed1284a9-0c01-41b3-ab6e-71f1a070e80d",
   "metadata": {},
   "source": [
    "## Geometric"
   ]
  },
  {
   "cell_type": "markdown",
   "id": "4f92f1d1-d117-41dd-a0ff-435e8368858c",
   "metadata": {},
   "source": [
    "Probability mass function:\n",
    "$$f(k) = (1 - p)^{k-1}p$$\n",
    "for $k \\geq 1, 0 \\leq p \\leq 1$. $p$ is the probability of a single success"
   ]
  },
  {
   "cell_type": "code",
   "execution_count": 147,
   "id": "3b299173-69c0-4f38-bf83-c1557d1755af",
   "metadata": {},
   "outputs": [
    {
     "name": "stdout",
     "output_type": "stream",
     "text": [
      "mean = array(2.)\n",
      "var = array(2.)\n"
     ]
    }
   ],
   "source": [
    "p = .5\n",
    "mean, var = st.geom.stats(p, moments = 'mv')\n",
    "print(f\"{mean = }\\n{var = }\")"
   ]
  },
  {
   "cell_type": "code",
   "execution_count": null,
   "id": "40855fe3-9206-498f-a1d1-c9eaaba0f237",
   "metadata": {},
   "outputs": [],
   "source": []
  },
  {
   "cell_type": "code",
   "execution_count": null,
   "id": "75985251-8d4b-4023-af08-ce2b874b6652",
   "metadata": {},
   "outputs": [],
   "source": [
    "x = np.arange(st.bernoulli.ppf(0.01, p), st.bernoulli.ppf(0.99, p))\n",
    "y = st.bernoulli.pmf(x, p)\n",
    "samples = [st.bernoulli.rvs(p) for _ in range(num_samples)] # sample \n",
    "plt.plot(x, y, 'bo', ms = 8)\n",
    "plt.vlines(x, 0, y, color = 'k', linestyles = '-', lw = 5)\n",
    "#plt.plot(x, y, linewidth = 3)\n",
    "plt.show()"
   ]
  },
  {
   "cell_type": "markdown",
   "id": "9a8973a8-1a74-4c64-a3b2-20382df5e8c6",
   "metadata": {},
   "source": [
    "## Binomial"
   ]
  },
  {
   "cell_type": "markdown",
   "id": "1c224145-1d99-4cbf-bf70-eb89925aa081",
   "metadata": {},
   "source": [
    "## Poisson"
   ]
  },
  {
   "cell_type": "code",
   "execution_count": null,
   "id": "ea54ef56-2b2f-490d-ba83-70c751750522",
   "metadata": {},
   "outputs": [],
   "source": []
  }
 ],
 "metadata": {
  "kernelspec": {
   "display_name": "Python 3 (ipykernel)",
   "language": "python",
   "name": "python3"
  },
  "language_info": {
   "codemirror_mode": {
    "name": "ipython",
    "version": 3
   },
   "file_extension": ".py",
   "mimetype": "text/x-python",
   "name": "python",
   "nbconvert_exporter": "python",
   "pygments_lexer": "ipython3",
   "version": "3.9.6"
  }
 },
 "nbformat": 4,
 "nbformat_minor": 5
}
