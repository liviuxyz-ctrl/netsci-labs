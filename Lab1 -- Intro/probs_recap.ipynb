{
 "cells": [
  {
   "cell_type": "markdown",
   "id": "299dfffa-0188-48ab-a5c1-3f5d3e43ffe6",
   "metadata": {},
   "source": [
    "[scipy stats docs](https://docs.scipy.org/doc/scipy/reference/stats.html)\n",
    "\n",
    "[numpy stats docs](https://numpy.org/doc/stable/reference/routines.statistics.html)\n",
    "\n",
    "[tutorial](https://www.tutorialspoint.com/scipy/scipy_stats.htm)"
   ]
  },
  {
   "cell_type": "code",
   "execution_count": 2,
   "id": "bbe429f0-1dd1-4522-bd2b-de0ba06bcff3",
   "metadata": {},
   "outputs": [],
   "source": [
    "import scipy.stats as st\n",
    "import numpy as np\n",
    "\n",
    "import matplotlib.pyplot as plt"
   ]
  },
  {
   "cell_type": "markdown",
   "id": "184f638a-b3c0-4e10-bfc9-57673ec394e6",
   "metadata": {},
   "source": [
    "**Statistics review**\n",
    "- https://stanford.edu/~shervine/teaching/cme-106/cheatsheet-probability\n",
    "- https://www.dummies.com/education/math/probability/probability-for-dummies-cheat-sheet/\n",
    "- https://web.mit.edu/~csvoss/Public/usabo/stats_handout.pdf\n",
    "- https://www.stat.auckland.ac.nz/~fewster/325/notes/ch3.pdf"
   ]
  },
  {
   "cell_type": "code",
   "execution_count": 3,
   "id": "fa674b8e-7f8a-42a8-8a3f-d9a5d7730aea",
   "metadata": {},
   "outputs": [
    {
     "name": "stdout",
     "output_type": "stream",
     "text": [
      "3.5\n",
      "[2.5 3.5 4.5]\n",
      "[2. 5.]\n",
      "\n",
      "1.707825127659933\n",
      "[1.5 1.5 1.5]\n",
      "[0.81649658 0.81649658]\n",
      "\n",
      "2.9166666666666665\n",
      "[2.25 2.25 2.25]\n",
      "[0.66666667 0.66666667]\n"
     ]
    }
   ],
   "source": [
    "X = np.array(\n",
    "    [[1, 2, 3],\n",
    "    [4, 5, 6]],\n",
    ")\n",
    "\n",
    "print(np.mean(X))\n",
    "print(np.mean(X, axis = 0)) # Mean over cols\n",
    "print(np.mean(X, axis = 1)) # Mean over rows\n",
    "print()\n",
    "print(np.std(X))\n",
    "print(np.std(X, axis = 0)) # std over cols\n",
    "print(np.std(X, axis = 1)) # std over rows\n",
    "\n",
    "print()\n",
    "print(np.var(X))\n",
    "print(np.var(X, axis=0))\n",
    "print(np.var(X, axis=1))"
   ]
  },
  {
   "cell_type": "code",
   "execution_count": 4,
   "id": "56d3046d-129a-4da0-a06b-d04dbf41987e",
   "metadata": {},
   "outputs": [
    {
     "data": {
      "text/plain": [
       "True"
      ]
     },
     "execution_count": 4,
     "metadata": {},
     "output_type": "execute_result"
    }
   ],
   "source": [
    "np.var(X) == np.std(X) ** 2"
   ]
  },
  {
   "cell_type": "code",
   "execution_count": 5,
   "id": "2adff42a-3739-46c0-9be6-6ab84b44edac",
   "metadata": {},
   "outputs": [
    {
     "name": "stdout",
     "output_type": "stream",
     "text": [
      "[2.25 2.25 2.25]\n",
      "[0.66666667 0.66666667]\n"
     ]
    }
   ],
   "source": [
    "# Variance with formula\n",
    "\n",
    "print(np.sum((X - np.mean(X, axis = 0))**2, axis = 0) / len(X))\n",
    "print(np.sum((X.T - np.mean(X, axis = 1))**2, axis = 0) / len(X[0]))"
   ]
  },
  {
   "cell_type": "code",
   "execution_count": 6,
   "id": "2e535389-4b77-4290-8703-bd29157cb665",
   "metadata": {},
   "outputs": [
    {
     "data": {
      "text/plain": [
       "array([[1., 1.],\n",
       "       [1., 1.]])"
      ]
     },
     "execution_count": 6,
     "metadata": {},
     "output_type": "execute_result"
    }
   ],
   "source": [
    "np.cov(X)"
   ]
  },
  {
   "cell_type": "markdown",
   "id": "4ce6faa3-8e7f-45b0-bf04-375f36da21a7",
   "metadata": {},
   "source": [
    "# Distributions"
   ]
  },
  {
   "cell_type": "markdown",
   "id": "55f86fb6-418c-4ce8-a753-b0d29a3c8616",
   "metadata": {},
   "source": [
    "## Numpy module\n",
    "- https://numpy.org/doc/1.16/reference/routines.random.html"
   ]
  },
  {
   "cell_type": "markdown",
   "id": "e77fbfdb-fa9c-41ac-a776-d5e8d1745c2c",
   "metadata": {},
   "source": [
    "## Base classes -- Scipy"
   ]
  },
  {
   "cell_type": "markdown",
   "id": "78ddfb9f-abdf-4d4d-9d8b-cd481e4f0e26",
   "metadata": {},
   "source": [
    "3 base classes, `rv_continuous`, `rv_discrete` and `rv_histogram`"
   ]
  },
  {
   "cell_type": "markdown",
   "id": "685e44f3-01b1-4d0b-8449-1b75d1e13deb",
   "metadata": {},
   "source": [
    "### `rv_continuous`"
   ]
  },
  {
   "cell_type": "markdown",
   "id": "5e14f60c-cd15-453d-ac5e-fa7bd5e322e8",
   "metadata": {},
   "source": [
    "- https://docs.scipy.org/doc/scipy/reference/generated/scipy.stats.rv_continuous.html#scipy.stats.rv_continuous"
   ]
  },
  {
   "cell_type": "code",
   "execution_count": 2,
   "id": "17f144a3-e886-46b2-a6f2-4057bb872d8b",
   "metadata": {},
   "outputs": [],
   "source": [
    "class gaussian_gen(st.rv_continuous):\n",
    "\n",
    "    \"Gaussian distribution\"\n",
    "\n",
    "    def _pdf(self, x):\n",
    "\n",
    "\n",
    "        return np.exp(-x**2 / 2.) / np.sqrt(2.0 * np.pi)\n",
    "gaussian = gaussian_gen(name='gaussian')"
   ]
  },
  {
   "cell_type": "code",
   "execution_count": 3,
   "id": "7a25ac42-e133-434c-9050-b71cb05bb72f",
   "metadata": {},
   "outputs": [
    {
     "data": {
      "text/plain": [
       "0.4999999999999999"
      ]
     },
     "execution_count": 3,
     "metadata": {},
     "output_type": "execute_result"
    }
   ],
   "source": [
    "gaussian.cdf(0)"
   ]
  },
  {
   "cell_type": "markdown",
   "id": "0c67e3c0-b307-43b6-a2b5-e0e2624e78f4",
   "metadata": {},
   "source": [
    "### `rv_discrete`\n",
    "\n",
    "- https://docs.scipy.org/doc/scipy/reference/generated/scipy.stats.rv_discrete.html#scipy.stats.rv_discrete"
   ]
  },
  {
   "cell_type": "code",
   "execution_count": 4,
   "id": "521395b8-f1d6-4023-bcd2-9da702f2f460",
   "metadata": {},
   "outputs": [
    {
     "name": "stdout",
     "output_type": "stream",
     "text": [
      "[0.1, 0.2, 0.3, 0.1, 0.1, 0.0, 0.2]\n",
      "Probability mass:  [0.1, 0.2, 0.3, 0.1, 0.1, 0.0, 0.2]\n",
      "Cumulative distribution:  [0.1, 0.30000000000000004, 0.6000000000000001, 0.7000000000000001, 0.8, 0.8, 1.0]\n",
      "\n"
     ]
    },
    {
     "data": {
      "image/png": "[encoded data removed]",
      "text/plain": [
       "<Figure size 432x288 with 1 Axes>"
      ]
     },
     "metadata": {
      "needs_background": "light"
     },
     "output_type": "display_data"
    }
   ],
   "source": [
    "# Create discrete distribution\n",
    "xk = np.arange(7)\n",
    "pk = [0.1, 0.2, 0.3, 0.1, 0.1, 0.0, 0.2]\n",
    "dist = st.rv_discrete(name='custm', values=(xk, pk))\n",
    "\n",
    "print(pk)\n",
    "print(\"Probability mass: \", [dist.pmf(x) for x in xk]) # probability of the value\n",
    "print(\"Cumulative distribution: \", [dist.cdf(x) for x in xk])\n",
    "print()\n",
    "# Plot\n",
    "fig, ax = plt.subplots(1, 1)\n",
    "ax.plot(xk, dist.pmf(xk), 'ro', ms=12, mec='r') \n",
    "ax.vlines(xk, 0, dist.pmf(xk), colors='r', lw=4) \n",
    "plt.show()"
   ]
  },
  {
   "cell_type": "code",
   "execution_count": 5,
   "id": "4e4c12dd-4c3b-4e37-ac0e-37c6b4d28dec",
   "metadata": {},
   "outputs": [
    {
     "data": {
      "text/plain": [
       "(2.7, 1.9519221295943132, 3.8099999999999987)"
      ]
     },
     "execution_count": 5,
     "metadata": {},
     "output_type": "execute_result"
    }
   ],
   "source": [
    "dist.mean(), dist.std(), dist.var()"
   ]
  },
  {
   "cell_type": "markdown",
   "id": "d48b38cc-5670-4f43-b993-74570d2ec725",
   "metadata": {},
   "source": [
    "## Continuous distributions"
   ]
  },
  {
   "cell_type": "markdown",
   "id": "901e1452-0cfb-4f66-b3a2-c4606defc688",
   "metadata": {},
   "source": [
    "### Uniform distribution"
   ]
  },
  {
   "cell_type": "code",
   "execution_count": 43,
   "id": "e59cb133-1984-4d79-a1d0-24bb49bacf63",
   "metadata": {},
   "outputs": [
    {
     "data": {
      "image/png": "[encoded data removed]",
      "text/plain": [
       "<Figure size 432x288 with 1 Axes>"
      ]
     },
     "metadata": {
      "needs_background": "light"
     },
     "output_type": "display_data"
    },
    {
     "name": "stdout",
     "output_type": "stream",
     "text": [
      "np.mean(X) = 0.5171599769479024\n",
      "0.2932828369976486\n"
     ]
    }
   ],
   "source": [
    "# Numpy\n",
    "\n",
    "X = np.random.uniform(low = 0, high = 1, size = 1000)\n",
    "plt.hist(X, alpha = .2)\n",
    "plt.show()\n",
    "\n",
    "print(f\"{np.mean(X) = }\")\n",
    "print(f\"{np.std(X) = }\")"
   ]
  },
  {
   "cell_type": "code",
   "execution_count": 7,
   "id": "c0ab7604-f518-4cdd-89a6-a82e7e538cab",
   "metadata": {},
   "outputs": [
    {
     "data": {
      "image/png": "[encoded data removed]",
      "text/plain": [
       "<Figure size 432x288 with 1 Axes>"
      ]
     },
     "metadata": {
      "needs_background": "light"
     },
     "output_type": "display_data"
    }
   ],
   "source": [
    "##Scipy\n",
    "\n",
    "num_samples = 1000\n",
    "x = np.linspace(st.uniform.ppf(0.01), st.uniform.ppf(0.99), 100)\n",
    "p = st.uniform.pdf(x) # everything has prob 1\n",
    "samples = [st.uniform.rvs() for _ in range(num_samples)] # sample \n",
    "\n",
    "plt.hist(samples, density=True, alpha = .2)\n",
    "plt.plot(x, p, linewidth = 3)\n",
    "plt.show()\n",
    "\n"
   ]
  },
  {
   "cell_type": "markdown",
   "id": "2c4f7fcf-2bf9-4e3e-867c-b602538b16da",
   "metadata": {},
   "source": [
    "### Gaussian"
   ]
  },
  {
   "cell_type": "code",
   "execution_count": 34,
   "id": "37accf79-b222-4cbc-9393-57a25abacfba",
   "metadata": {},
   "outputs": [
    {
     "data": {
      "image/png": "[encoded data removed]",
      "text/plain": [
       "<Figure size 432x288 with 1 Axes>"
      ]
     },
     "metadata": {
      "needs_background": "light"
     },
     "output_type": "display_data"
    }
   ],
   "source": [
    "# Numpy\n",
    "\n",
    "X = np.random.normal(loc = 0, scale = 1, size = 1000)\n",
    "plt.hist(X, alpha = .2)\n",
    "plt.show()"
   ]
  },
  {
   "cell_type": "code",
   "execution_count": 70,
   "id": "9ed5b6cc-d7d7-4689-ab2e-9703c13d3568",
   "metadata": {},
   "outputs": [
    {
     "data": {
      "text/plain": [
       "(-2.3263478740408408, 2.3263478740408408)"
      ]
     },
     "execution_count": 70,
     "metadata": {},
     "output_type": "execute_result"
    }
   ],
   "source": [
    "st.norm.ppf(0.01), st.norm.ppf(0.99)"
   ]
  },
  {
   "cell_type": "code",
   "execution_count": 93,
   "id": "8e5412ba-5616-4475-967e-8b0f2e7f2a3d",
   "metadata": {},
   "outputs": [
    {
     "data": {
      "image/png": "[encoded data removed]",
      "text/plain": [
       "<Figure size 432x288 with 1 Axes>"
      ]
     },
     "metadata": {
      "needs_background": "light"
     },
     "output_type": "display_data"
    }
   ],
   "source": [
    "# Scipy\n",
    "\n",
    "x = np.linspace(st.norm.ppf(0.001), st.norm.ppf(0.999), 100)\n",
    "y = st.norm.pdf(x)\n",
    "samples = [st.norm.rvs() for _ in range(num_samples)] # sample \n",
    "plt.hist(samples, density=True, alpha = .2)\n",
    "plt.plot(x, y, linewidth = 3)\n",
    "plt.show()\n"
   ]
  },
  {
   "cell_type": "markdown",
   "id": "5affb899-6244-4254-a443-354e9daff882",
   "metadata": {},
   "source": [
    "## Discrete distributions"
   ]
  },
  {
   "cell_type": "markdown",
   "id": "4c9e7b6e-35fd-4f8f-868c-c4fdde2bc117",
   "metadata": {},
   "source": [
    "### Bernoulli"
   ]
  },
  {
   "cell_type": "markdown",
   "id": "c2b9f484-301d-49f7-bf68-8dc00a450892",
   "metadata": {},
   "source": [
    "Probability mass function:\n",
    "\n",
    "$$f(k) = \\begin{cases}\n",
    "1 - p & \\text{ if } k = 0 \\\\\n",
    "p & \\text{ if } k = 1\n",
    "\\end{cases}$$\n",
    "for $k \\in {0, 1}, 0 \\leq p \\leq 1$"
   ]
  },
  {
   "cell_type": "code",
   "execution_count": 102,
   "id": "96e4d5f3-e476-4dc5-a36b-7052d5800192",
   "metadata": {},
   "outputs": [
    {
     "name": "stdout",
     "output_type": "stream",
     "text": [
      "mean = array(0.3)\n",
      "var = array(0.21)\n"
     ]
    }
   ],
   "source": [
    "p = .3\n",
    "mean, var = st.bernoulli.stats(p, moments = 'mv')\n",
    "print(f\"{mean = }\\n{var = }\")"
   ]
  },
  {
   "cell_type": "code",
   "execution_count": 134,
   "id": "beb24e84-d972-4723-920a-0712f7eddf68",
   "metadata": {},
   "outputs": [
    {
     "data": {
      "image/png": "[encoded data removed]",
      "text/plain": [
       "<Figure size 432x288 with 1 Axes>"
      ]
     },
     "metadata": {
      "needs_background": "light"
     },
     "output_type": "display_data"
    }
   ],
   "source": [
    "x = np.arange(st.bernoulli.ppf(0.01, p), st.bernoulli.ppf(0.99, p))\n",
    "y = st.bernoulli.pmf(x, p)\n",
    "samples = [st.bernoulli.rvs(p) for _ in range(num_samples)] # sample \n",
    "plt.plot(x, y, 'bo', ms = 8)\n",
    "plt.vlines(x, 0, y, color = 'k', linestyles = '-', lw = 5)\n",
    "#plt.plot(x, y, linewidth = 3)\n",
    "plt.show()"
   ]
  },
  {
   "cell_type": "markdown",
   "id": "ed1284a9-0c01-41b3-ab6e-71f1a070e80d",
   "metadata": {},
   "source": [
    "### Geometric"
   ]
  },
  {
   "cell_type": "markdown",
   "id": "4f92f1d1-d117-41dd-a0ff-435e8368858c",
   "metadata": {},
   "source": [
    "Probability mass function:\n",
    "$$f(k) = (1 - p)^{k-1}p$$\n",
    "for $k \\geq 1, 0 \\leq p \\leq 1$. $p$ is the probability of a single success"
   ]
  },
  {
   "cell_type": "code",
   "execution_count": 77,
   "id": "3898e3a5-6ffa-4227-9c9d-b3c1df38ef59",
   "metadata": {},
   "outputs": [
    {
     "data": {
      "image/png": "[encoded data removed]",
      "text/plain": [
       "<Figure size 432x288 with 1 Axes>"
      ]
     },
     "metadata": {
      "needs_background": "light"
     },
     "output_type": "display_data"
    },
    {
     "name": "stdout",
     "output_type": "stream",
     "text": [
      "np.mean(X) = 5.095\n",
      "np.std(X) = 4.513310868974129\n"
     ]
    }
   ],
   "source": [
    "## Numpy\n",
    "\n",
    "X = np.random.geometric(p = .2, size = 1000) # p = probability of success\n",
    "\n",
    "values, counts= np.unique(X, return_counts=True)\n",
    "plt.scatter(values, counts)\n",
    "plt.show()\n",
    "print(f\"{np.mean(X) = }\")\n",
    "print(f\"{np.std(X) = }\")"
   ]
  },
  {
   "cell_type": "markdown",
   "id": "9a8973a8-1a74-4c64-a3b2-20382df5e8c6",
   "metadata": {},
   "source": [
    "### Binomial"
   ]
  },
  {
   "cell_type": "code",
   "execution_count": 54,
   "id": "846a79c7-2361-430a-9063-325197e22714",
   "metadata": {},
   "outputs": [
    {
     "data": {
      "image/png": "[encoded data removed]",
      "text/plain": [
       "<Figure size 432x288 with 1 Axes>"
      ]
     },
     "metadata": {
      "needs_background": "light"
     },
     "output_type": "display_data"
    },
    {
     "name": "stdout",
     "output_type": "stream",
     "text": [
      "np.mean(X) = 50.036\n",
      "np.std(X) = 4.991863780192725\n"
     ]
    }
   ],
   "source": [
    "n, p = 100, .5  # number of trials, probability of each trial\n",
    "X = np.random.binomial(n, p, 1000)\n",
    "\n",
    "values, counts= np.unique(X, return_counts=True)\n",
    "plt.scatter(values, counts)\n",
    "plt.show()\n",
    "print(f\"{np.mean(X) = }\")\n",
    "print(f\"{np.std(X) = }\")"
   ]
  },
  {
   "cell_type": "markdown",
   "id": "1c224145-1d99-4cbf-bf70-eb89925aa081",
   "metadata": {},
   "source": [
    "### Poisson"
   ]
  },
  {
   "cell_type": "code",
   "execution_count": 69,
   "id": "aeb77972-3c62-4e59-9ccc-aa56fefc4550",
   "metadata": {},
   "outputs": [],
   "source": [
    "X = np.random.poisson(lam = 50, size =  1000)"
   ]
  },
  {
   "cell_type": "code",
   "execution_count": 70,
   "id": "1d8d2839-a722-418c-b679-b00b3d354477",
   "metadata": {},
   "outputs": [
    {
     "data": {
      "image/png": "[encoded data removed]",
      "text/plain": [
       "<Figure size 432x288 with 1 Axes>"
      ]
     },
     "metadata": {
      "needs_background": "light"
     },
     "output_type": "display_data"
    },
    {
     "name": "stdout",
     "output_type": "stream",
     "text": [
      "np.mean(X) = 49.989\n",
      "np.std(X) = 7.093016213149382\n"
     ]
    }
   ],
   "source": [
    "values, counts= np.unique(X, return_counts=True)\n",
    "plt.scatter(values, counts)\n",
    "plt.show()\n",
    "print(f\"{np.mean(X) = }\")\n",
    "print(f\"{np.std(X) = }\")"
   ]
  },
  {
   "cell_type": "code",
   "execution_count": null,
   "id": "d7ac55b5-4a95-4797-a999-892e1797c4fe",
   "metadata": {},
   "outputs": [],
   "source": []
  }
 ],
 "metadata": {
  "kernelspec": {
   "display_name": "Python 3 (ipykernel)",
   "language": "python",
   "name": "python3"
  },
  "language_info": {
   "codemirror_mode": {
    "name": "ipython",
    "version": 3
   },
   "file_extension": ".py",
   "mimetype": "text/x-python",
   "name": "python",
   "nbconvert_exporter": "python",
   "pygments_lexer": "ipython3",
   "version": "3.9.6"
  }
 },
 "nbformat": 4,
 "nbformat_minor": 5
}
